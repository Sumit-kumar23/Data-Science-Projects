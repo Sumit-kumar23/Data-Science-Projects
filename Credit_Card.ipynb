{
  "nbformat": 4,
  "nbformat_minor": 0,
  "metadata": {
    "colab": {
      "provenance": [],
      "toc_visible": true
    },
    "kernelspec": {
      "name": "python3",
      "display_name": "Python 3"
    },
    "language_info": {
      "name": "python"
    }
  },
  "cells": [
    {
      "cell_type": "code",
      "execution_count": 77,
      "metadata": {
        "id": "HTHZBhicyv-4"
      },
      "outputs": [],
      "source": [
        "import pandas as pd\n",
        "import numpy as np\n",
        "from sklearn.linear_model import LogisticRegression\n",
        "from sklearn.metrics import accuracy_score\n",
        "from sklearn.model_selection import train_test_split"
      ]
    },
    {
      "cell_type": "code",
      "source": [
        "df=pd.read_csv(\"creditcard.csv\")"
      ],
      "metadata": {
        "id": "7VAo0i5jyyl1"
      },
      "execution_count": 78,
      "outputs": []
    },
    {
      "cell_type": "code",
      "source": [
        "legit=df[df.Class==0]\n",
        "fraud=df[df.Class==1]"
      ],
      "metadata": {
        "id": "j9m609HNzIwU"
      },
      "execution_count": 79,
      "outputs": []
    },
    {
      "cell_type": "code",
      "source": [
        "print(legit.shape)\n",
        "print(fraud.shape)"
      ],
      "metadata": {
        "colab": {
          "base_uri": "https://localhost:8080/"
        },
        "id": "i6KFUh3QzvkN",
        "outputId": "5a6bc360-8143-418b-d3d3-bc575b7e9fba"
      },
      "execution_count": 80,
      "outputs": [
        {
          "output_type": "stream",
          "name": "stdout",
          "text": [
            "(284315, 31)\n",
            "(492, 31)\n"
          ]
        }
      ]
    },
    {
      "cell_type": "code",
      "source": [
        "legit_sample=legit.sample(n=40)"
      ],
      "metadata": {
        "id": "d15WlB_E05F5"
      },
      "execution_count": 81,
      "outputs": []
    },
    {
      "cell_type": "code",
      "source": [
        "new_data=pd.concat([legit_sample, fraud], axis=0)\n",
        "print(new_data)"
      ],
      "metadata": {
        "colab": {
          "base_uri": "https://localhost:8080/"
        },
        "id": "zYkCW1C91jFM",
        "outputId": "724f3e96-8afa-4c04-c578-81232f5233db"
      },
      "execution_count": 82,
      "outputs": [
        {
          "output_type": "stream",
          "name": "stdout",
          "text": [
            "            Time        V1        V2        V3        V4        V5        V6  \\\n",
            "158733  111693.0  2.010149  0.093008 -1.612224  0.337610  0.405446 -0.576773   \n",
            "57749    48053.0  1.103441  0.076124  0.681045  1.012438 -0.494685 -0.208828   \n",
            "172928  121296.0  2.091209  0.403352 -2.037417  1.089137  0.967163 -0.951544   \n",
            "228094  145358.0  2.051989 -0.167057 -1.097305  0.423547 -0.244923 -1.164298   \n",
            "72136    54581.0 -0.606821  0.365954  0.942199  0.862131  1.014626 -0.628107   \n",
            "...          ...       ...       ...       ...       ...       ...       ...   \n",
            "279863  169142.0 -1.927883  1.125653 -4.518331  1.749293 -1.566487 -2.010494   \n",
            "280143  169347.0  1.378559  1.289381 -5.004247  1.411850  0.442581 -1.326536   \n",
            "280149  169351.0 -0.676143  1.126366 -2.213700  0.468308 -1.120541 -0.003346   \n",
            "281144  169966.0 -3.113832  0.585864 -5.399730  1.817092 -0.840618 -2.943548   \n",
            "281674  170348.0  1.991976  0.158476 -2.583441  0.408670  1.151147 -0.096695   \n",
            "\n",
            "              V7        V8        V9  ...       V21       V22       V23  \\\n",
            "158733  0.062787 -0.067284  0.241324  ... -0.296757 -0.787069  0.357600   \n",
            "57749  -0.251930  0.235251  0.109171  ... -0.202702 -0.713603  0.205535   \n",
            "172928  0.806834 -0.462000 -0.235501  ...  0.109841  0.417641 -0.011989   \n",
            "228094  0.069764 -0.224969  0.764485  ... -0.300321 -0.796993  0.364573   \n",
            "72136   0.496609 -0.082939 -0.585448  ...  0.170722  0.328178 -0.088821   \n",
            "...          ...       ...       ...  ...       ...       ...       ...   \n",
            "279863 -0.882850  0.697211 -2.064945  ...  0.778584 -0.319189  0.639419   \n",
            "280143 -1.413170  0.248525 -1.127396  ...  0.370612  0.028234 -0.145640   \n",
            "280149 -2.234739  1.210158 -0.652250  ...  0.751826  0.834108  0.190944   \n",
            "281144 -2.208002  1.058733 -1.632333  ...  0.583276 -0.269209 -0.456108   \n",
            "281674  0.223050 -0.068384  0.577829  ... -0.164350 -0.295135 -0.072173   \n",
            "\n",
            "             V24       V25       V26       V27       V28  Amount  Class  \n",
            "158733  0.606518 -0.331822  0.148692 -0.064047 -0.039637    1.98      0  \n",
            "57749   0.111448  0.088521 -0.687680  0.028716  0.018578   12.00      0  \n",
            "172928  0.590438  0.538012 -0.509959 -0.034051 -0.056781    6.99      0  \n",
            "228094 -0.053807 -0.363684  0.206011 -0.077287 -0.063649    1.98      0  \n",
            "72136  -0.453532 -0.104619 -0.283694  0.141905  0.169788   36.86      0  \n",
            "...          ...       ...       ...       ...       ...     ...    ...  \n",
            "279863 -0.294885  0.537503  0.788395  0.292680  0.147968  390.00      1  \n",
            "280143 -0.081049  0.521875  0.739467  0.389152  0.186637    0.76      1  \n",
            "280149  0.032070 -0.739695  0.471111  0.385107  0.194361   77.89      1  \n",
            "281144 -0.183659 -0.328168  0.606116  0.884876 -0.253700  245.00      1  \n",
            "281674 -0.450261  0.313267 -0.289617  0.002988 -0.015309   42.53      1  \n",
            "\n",
            "[532 rows x 31 columns]\n"
          ]
        }
      ]
    },
    {
      "cell_type": "code",
      "source": [
        "new_data.head()"
      ],
      "metadata": {
        "colab": {
          "base_uri": "https://localhost:8080/",
          "height": 253
        },
        "id": "KH69IR7M12eD",
        "outputId": "c7d3e396-12be-4e6b-a37a-ee2cb8322a14"
      },
      "execution_count": 83,
      "outputs": [
        {
          "output_type": "execute_result",
          "data": {
            "text/plain": [
              "            Time        V1        V2        V3        V4        V5        V6  \\\n",
              "158733  111693.0  2.010149  0.093008 -1.612224  0.337610  0.405446 -0.576773   \n",
              "57749    48053.0  1.103441  0.076124  0.681045  1.012438 -0.494685 -0.208828   \n",
              "172928  121296.0  2.091209  0.403352 -2.037417  1.089137  0.967163 -0.951544   \n",
              "228094  145358.0  2.051989 -0.167057 -1.097305  0.423547 -0.244923 -1.164298   \n",
              "72136    54581.0 -0.606821  0.365954  0.942199  0.862131  1.014626 -0.628107   \n",
              "\n",
              "              V7        V8        V9  ...       V21       V22       V23  \\\n",
              "158733  0.062787 -0.067284  0.241324  ... -0.296757 -0.787069  0.357600   \n",
              "57749  -0.251930  0.235251  0.109171  ... -0.202702 -0.713603  0.205535   \n",
              "172928  0.806834 -0.462000 -0.235501  ...  0.109841  0.417641 -0.011989   \n",
              "228094  0.069764 -0.224969  0.764485  ... -0.300321 -0.796993  0.364573   \n",
              "72136   0.496609 -0.082939 -0.585448  ...  0.170722  0.328178 -0.088821   \n",
              "\n",
              "             V24       V25       V26       V27       V28  Amount  Class  \n",
              "158733  0.606518 -0.331822  0.148692 -0.064047 -0.039637    1.98      0  \n",
              "57749   0.111448  0.088521 -0.687680  0.028716  0.018578   12.00      0  \n",
              "172928  0.590438  0.538012 -0.509959 -0.034051 -0.056781    6.99      0  \n",
              "228094 -0.053807 -0.363684  0.206011 -0.077287 -0.063649    1.98      0  \n",
              "72136  -0.453532 -0.104619 -0.283694  0.141905  0.169788   36.86      0  \n",
              "\n",
              "[5 rows x 31 columns]"
            ],
            "text/html": [
              "\n",
              "  <div id=\"df-eb40afdb-b594-4e4d-a867-fd81fddd1413\" class=\"colab-df-container\">\n",
              "    <div>\n",
              "<style scoped>\n",
              "    .dataframe tbody tr th:only-of-type {\n",
              "        vertical-align: middle;\n",
              "    }\n",
              "\n",
              "    .dataframe tbody tr th {\n",
              "        vertical-align: top;\n",
              "    }\n",
              "\n",
              "    .dataframe thead th {\n",
              "        text-align: right;\n",
              "    }\n",
              "</style>\n",
              "<table border=\"1\" class=\"dataframe\">\n",
              "  <thead>\n",
              "    <tr style=\"text-align: right;\">\n",
              "      <th></th>\n",
              "      <th>Time</th>\n",
              "      <th>V1</th>\n",
              "      <th>V2</th>\n",
              "      <th>V3</th>\n",
              "      <th>V4</th>\n",
              "      <th>V5</th>\n",
              "      <th>V6</th>\n",
              "      <th>V7</th>\n",
              "      <th>V8</th>\n",
              "      <th>V9</th>\n",
              "      <th>...</th>\n",
              "      <th>V21</th>\n",
              "      <th>V22</th>\n",
              "      <th>V23</th>\n",
              "      <th>V24</th>\n",
              "      <th>V25</th>\n",
              "      <th>V26</th>\n",
              "      <th>V27</th>\n",
              "      <th>V28</th>\n",
              "      <th>Amount</th>\n",
              "      <th>Class</th>\n",
              "    </tr>\n",
              "  </thead>\n",
              "  <tbody>\n",
              "    <tr>\n",
              "      <th>158733</th>\n",
              "      <td>111693.0</td>\n",
              "      <td>2.010149</td>\n",
              "      <td>0.093008</td>\n",
              "      <td>-1.612224</td>\n",
              "      <td>0.337610</td>\n",
              "      <td>0.405446</td>\n",
              "      <td>-0.576773</td>\n",
              "      <td>0.062787</td>\n",
              "      <td>-0.067284</td>\n",
              "      <td>0.241324</td>\n",
              "      <td>...</td>\n",
              "      <td>-0.296757</td>\n",
              "      <td>-0.787069</td>\n",
              "      <td>0.357600</td>\n",
              "      <td>0.606518</td>\n",
              "      <td>-0.331822</td>\n",
              "      <td>0.148692</td>\n",
              "      <td>-0.064047</td>\n",
              "      <td>-0.039637</td>\n",
              "      <td>1.98</td>\n",
              "      <td>0</td>\n",
              "    </tr>\n",
              "    <tr>\n",
              "      <th>57749</th>\n",
              "      <td>48053.0</td>\n",
              "      <td>1.103441</td>\n",
              "      <td>0.076124</td>\n",
              "      <td>0.681045</td>\n",
              "      <td>1.012438</td>\n",
              "      <td>-0.494685</td>\n",
              "      <td>-0.208828</td>\n",
              "      <td>-0.251930</td>\n",
              "      <td>0.235251</td>\n",
              "      <td>0.109171</td>\n",
              "      <td>...</td>\n",
              "      <td>-0.202702</td>\n",
              "      <td>-0.713603</td>\n",
              "      <td>0.205535</td>\n",
              "      <td>0.111448</td>\n",
              "      <td>0.088521</td>\n",
              "      <td>-0.687680</td>\n",
              "      <td>0.028716</td>\n",
              "      <td>0.018578</td>\n",
              "      <td>12.00</td>\n",
              "      <td>0</td>\n",
              "    </tr>\n",
              "    <tr>\n",
              "      <th>172928</th>\n",
              "      <td>121296.0</td>\n",
              "      <td>2.091209</td>\n",
              "      <td>0.403352</td>\n",
              "      <td>-2.037417</td>\n",
              "      <td>1.089137</td>\n",
              "      <td>0.967163</td>\n",
              "      <td>-0.951544</td>\n",
              "      <td>0.806834</td>\n",
              "      <td>-0.462000</td>\n",
              "      <td>-0.235501</td>\n",
              "      <td>...</td>\n",
              "      <td>0.109841</td>\n",
              "      <td>0.417641</td>\n",
              "      <td>-0.011989</td>\n",
              "      <td>0.590438</td>\n",
              "      <td>0.538012</td>\n",
              "      <td>-0.509959</td>\n",
              "      <td>-0.034051</td>\n",
              "      <td>-0.056781</td>\n",
              "      <td>6.99</td>\n",
              "      <td>0</td>\n",
              "    </tr>\n",
              "    <tr>\n",
              "      <th>228094</th>\n",
              "      <td>145358.0</td>\n",
              "      <td>2.051989</td>\n",
              "      <td>-0.167057</td>\n",
              "      <td>-1.097305</td>\n",
              "      <td>0.423547</td>\n",
              "      <td>-0.244923</td>\n",
              "      <td>-1.164298</td>\n",
              "      <td>0.069764</td>\n",
              "      <td>-0.224969</td>\n",
              "      <td>0.764485</td>\n",
              "      <td>...</td>\n",
              "      <td>-0.300321</td>\n",
              "      <td>-0.796993</td>\n",
              "      <td>0.364573</td>\n",
              "      <td>-0.053807</td>\n",
              "      <td>-0.363684</td>\n",
              "      <td>0.206011</td>\n",
              "      <td>-0.077287</td>\n",
              "      <td>-0.063649</td>\n",
              "      <td>1.98</td>\n",
              "      <td>0</td>\n",
              "    </tr>\n",
              "    <tr>\n",
              "      <th>72136</th>\n",
              "      <td>54581.0</td>\n",
              "      <td>-0.606821</td>\n",
              "      <td>0.365954</td>\n",
              "      <td>0.942199</td>\n",
              "      <td>0.862131</td>\n",
              "      <td>1.014626</td>\n",
              "      <td>-0.628107</td>\n",
              "      <td>0.496609</td>\n",
              "      <td>-0.082939</td>\n",
              "      <td>-0.585448</td>\n",
              "      <td>...</td>\n",
              "      <td>0.170722</td>\n",
              "      <td>0.328178</td>\n",
              "      <td>-0.088821</td>\n",
              "      <td>-0.453532</td>\n",
              "      <td>-0.104619</td>\n",
              "      <td>-0.283694</td>\n",
              "      <td>0.141905</td>\n",
              "      <td>0.169788</td>\n",
              "      <td>36.86</td>\n",
              "      <td>0</td>\n",
              "    </tr>\n",
              "  </tbody>\n",
              "</table>\n",
              "<p>5 rows × 31 columns</p>\n",
              "</div>\n",
              "    <div class=\"colab-df-buttons\">\n",
              "\n",
              "  <div class=\"colab-df-container\">\n",
              "    <button class=\"colab-df-convert\" onclick=\"convertToInteractive('df-eb40afdb-b594-4e4d-a867-fd81fddd1413')\"\n",
              "            title=\"Convert this dataframe to an interactive table.\"\n",
              "            style=\"display:none;\">\n",
              "\n",
              "  <svg xmlns=\"http://www.w3.org/2000/svg\" height=\"24px\" viewBox=\"0 -960 960 960\">\n",
              "    <path d=\"M120-120v-720h720v720H120Zm60-500h600v-160H180v160Zm220 220h160v-160H400v160Zm0 220h160v-160H400v160ZM180-400h160v-160H180v160Zm440 0h160v-160H620v160ZM180-180h160v-160H180v160Zm440 0h160v-160H620v160Z\"/>\n",
              "  </svg>\n",
              "    </button>\n",
              "\n",
              "  <style>\n",
              "    .colab-df-container {\n",
              "      display:flex;\n",
              "      gap: 12px;\n",
              "    }\n",
              "\n",
              "    .colab-df-convert {\n",
              "      background-color: #E8F0FE;\n",
              "      border: none;\n",
              "      border-radius: 50%;\n",
              "      cursor: pointer;\n",
              "      display: none;\n",
              "      fill: #1967D2;\n",
              "      height: 32px;\n",
              "      padding: 0 0 0 0;\n",
              "      width: 32px;\n",
              "    }\n",
              "\n",
              "    .colab-df-convert:hover {\n",
              "      background-color: #E2EBFA;\n",
              "      box-shadow: 0px 1px 2px rgba(60, 64, 67, 0.3), 0px 1px 3px 1px rgba(60, 64, 67, 0.15);\n",
              "      fill: #174EA6;\n",
              "    }\n",
              "\n",
              "    .colab-df-buttons div {\n",
              "      margin-bottom: 4px;\n",
              "    }\n",
              "\n",
              "    [theme=dark] .colab-df-convert {\n",
              "      background-color: #3B4455;\n",
              "      fill: #D2E3FC;\n",
              "    }\n",
              "\n",
              "    [theme=dark] .colab-df-convert:hover {\n",
              "      background-color: #434B5C;\n",
              "      box-shadow: 0px 1px 3px 1px rgba(0, 0, 0, 0.15);\n",
              "      filter: drop-shadow(0px 1px 2px rgba(0, 0, 0, 0.3));\n",
              "      fill: #FFFFFF;\n",
              "    }\n",
              "  </style>\n",
              "\n",
              "    <script>\n",
              "      const buttonEl =\n",
              "        document.querySelector('#df-eb40afdb-b594-4e4d-a867-fd81fddd1413 button.colab-df-convert');\n",
              "      buttonEl.style.display =\n",
              "        google.colab.kernel.accessAllowed ? 'block' : 'none';\n",
              "\n",
              "      async function convertToInteractive(key) {\n",
              "        const element = document.querySelector('#df-eb40afdb-b594-4e4d-a867-fd81fddd1413');\n",
              "        const dataTable =\n",
              "          await google.colab.kernel.invokeFunction('convertToInteractive',\n",
              "                                                    [key], {});\n",
              "        if (!dataTable) return;\n",
              "\n",
              "        const docLinkHtml = 'Like what you see? Visit the ' +\n",
              "          '<a target=\"_blank\" href=https://colab.research.google.com/notebooks/data_table.ipynb>data table notebook</a>'\n",
              "          + ' to learn more about interactive tables.';\n",
              "        element.innerHTML = '';\n",
              "        dataTable['output_type'] = 'display_data';\n",
              "        await google.colab.output.renderOutput(dataTable, element);\n",
              "        const docLink = document.createElement('div');\n",
              "        docLink.innerHTML = docLinkHtml;\n",
              "        element.appendChild(docLink);\n",
              "      }\n",
              "    </script>\n",
              "  </div>\n",
              "\n",
              "\n",
              "<div id=\"df-48460245-c452-4924-9df4-45eddce4fbf5\">\n",
              "  <button class=\"colab-df-quickchart\" onclick=\"quickchart('df-48460245-c452-4924-9df4-45eddce4fbf5')\"\n",
              "            title=\"Suggest charts\"\n",
              "            style=\"display:none;\">\n",
              "\n",
              "<svg xmlns=\"http://www.w3.org/2000/svg\" height=\"24px\"viewBox=\"0 0 24 24\"\n",
              "     width=\"24px\">\n",
              "    <g>\n",
              "        <path d=\"M19 3H5c-1.1 0-2 .9-2 2v14c0 1.1.9 2 2 2h14c1.1 0 2-.9 2-2V5c0-1.1-.9-2-2-2zM9 17H7v-7h2v7zm4 0h-2V7h2v10zm4 0h-2v-4h2v4z\"/>\n",
              "    </g>\n",
              "</svg>\n",
              "  </button>\n",
              "\n",
              "<style>\n",
              "  .colab-df-quickchart {\n",
              "      --bg-color: #E8F0FE;\n",
              "      --fill-color: #1967D2;\n",
              "      --hover-bg-color: #E2EBFA;\n",
              "      --hover-fill-color: #174EA6;\n",
              "      --disabled-fill-color: #AAA;\n",
              "      --disabled-bg-color: #DDD;\n",
              "  }\n",
              "\n",
              "  [theme=dark] .colab-df-quickchart {\n",
              "      --bg-color: #3B4455;\n",
              "      --fill-color: #D2E3FC;\n",
              "      --hover-bg-color: #434B5C;\n",
              "      --hover-fill-color: #FFFFFF;\n",
              "      --disabled-bg-color: #3B4455;\n",
              "      --disabled-fill-color: #666;\n",
              "  }\n",
              "\n",
              "  .colab-df-quickchart {\n",
              "    background-color: var(--bg-color);\n",
              "    border: none;\n",
              "    border-radius: 50%;\n",
              "    cursor: pointer;\n",
              "    display: none;\n",
              "    fill: var(--fill-color);\n",
              "    height: 32px;\n",
              "    padding: 0;\n",
              "    width: 32px;\n",
              "  }\n",
              "\n",
              "  .colab-df-quickchart:hover {\n",
              "    background-color: var(--hover-bg-color);\n",
              "    box-shadow: 0 1px 2px rgba(60, 64, 67, 0.3), 0 1px 3px 1px rgba(60, 64, 67, 0.15);\n",
              "    fill: var(--button-hover-fill-color);\n",
              "  }\n",
              "\n",
              "  .colab-df-quickchart-complete:disabled,\n",
              "  .colab-df-quickchart-complete:disabled:hover {\n",
              "    background-color: var(--disabled-bg-color);\n",
              "    fill: var(--disabled-fill-color);\n",
              "    box-shadow: none;\n",
              "  }\n",
              "\n",
              "  .colab-df-spinner {\n",
              "    border: 2px solid var(--fill-color);\n",
              "    border-color: transparent;\n",
              "    border-bottom-color: var(--fill-color);\n",
              "    animation:\n",
              "      spin 1s steps(1) infinite;\n",
              "  }\n",
              "\n",
              "  @keyframes spin {\n",
              "    0% {\n",
              "      border-color: transparent;\n",
              "      border-bottom-color: var(--fill-color);\n",
              "      border-left-color: var(--fill-color);\n",
              "    }\n",
              "    20% {\n",
              "      border-color: transparent;\n",
              "      border-left-color: var(--fill-color);\n",
              "      border-top-color: var(--fill-color);\n",
              "    }\n",
              "    30% {\n",
              "      border-color: transparent;\n",
              "      border-left-color: var(--fill-color);\n",
              "      border-top-color: var(--fill-color);\n",
              "      border-right-color: var(--fill-color);\n",
              "    }\n",
              "    40% {\n",
              "      border-color: transparent;\n",
              "      border-right-color: var(--fill-color);\n",
              "      border-top-color: var(--fill-color);\n",
              "    }\n",
              "    60% {\n",
              "      border-color: transparent;\n",
              "      border-right-color: var(--fill-color);\n",
              "    }\n",
              "    80% {\n",
              "      border-color: transparent;\n",
              "      border-right-color: var(--fill-color);\n",
              "      border-bottom-color: var(--fill-color);\n",
              "    }\n",
              "    90% {\n",
              "      border-color: transparent;\n",
              "      border-bottom-color: var(--fill-color);\n",
              "    }\n",
              "  }\n",
              "</style>\n",
              "\n",
              "  <script>\n",
              "    async function quickchart(key) {\n",
              "      const quickchartButtonEl =\n",
              "        document.querySelector('#' + key + ' button');\n",
              "      quickchartButtonEl.disabled = true;  // To prevent multiple clicks.\n",
              "      quickchartButtonEl.classList.add('colab-df-spinner');\n",
              "      try {\n",
              "        const charts = await google.colab.kernel.invokeFunction(\n",
              "            'suggestCharts', [key], {});\n",
              "      } catch (error) {\n",
              "        console.error('Error during call to suggestCharts:', error);\n",
              "      }\n",
              "      quickchartButtonEl.classList.remove('colab-df-spinner');\n",
              "      quickchartButtonEl.classList.add('colab-df-quickchart-complete');\n",
              "    }\n",
              "    (() => {\n",
              "      let quickchartButtonEl =\n",
              "        document.querySelector('#df-48460245-c452-4924-9df4-45eddce4fbf5 button');\n",
              "      quickchartButtonEl.style.display =\n",
              "        google.colab.kernel.accessAllowed ? 'block' : 'none';\n",
              "    })();\n",
              "  </script>\n",
              "</div>\n",
              "\n",
              "    </div>\n",
              "  </div>\n"
            ]
          },
          "metadata": {},
          "execution_count": 83
        }
      ]
    },
    {
      "cell_type": "code",
      "source": [
        "new_data['Class'].value_counts()"
      ],
      "metadata": {
        "colab": {
          "base_uri": "https://localhost:8080/"
        },
        "id": "9PmBlzpG1-WY",
        "outputId": "942ddf69-65b4-4da0-85e9-0a935fc99829"
      },
      "execution_count": 84,
      "outputs": [
        {
          "output_type": "execute_result",
          "data": {
            "text/plain": [
              "1    492\n",
              "0     40\n",
              "Name: Class, dtype: int64"
            ]
          },
          "metadata": {},
          "execution_count": 84
        }
      ]
    },
    {
      "cell_type": "code",
      "source": [
        "X = new_data.drop(columns='Class', axis=1)\n",
        "Y = new_data['Class']"
      ],
      "metadata": {
        "id": "04r740LZ2RPj"
      },
      "execution_count": 85,
      "outputs": []
    },
    {
      "cell_type": "code",
      "source": [
        "X_train, X_test, Y_train, Y_test = train_test_split(X, Y, test_size=0.2, random_state=2)"
      ],
      "metadata": {
        "id": "Mq_z-l9Y2VP2"
      },
      "execution_count": 86,
      "outputs": []
    },
    {
      "cell_type": "code",
      "source": [
        "model=LogisticRegression()\n",
        "model.fit(X_train, Y_train)"
      ],
      "metadata": {
        "colab": {
          "base_uri": "https://localhost:8080/",
          "height": 74
        },
        "id": "ud6xxiFA4lPN",
        "outputId": "b785f4f7-665c-45fb-d0a2-4fa196cffbcd"
      },
      "execution_count": 87,
      "outputs": [
        {
          "output_type": "execute_result",
          "data": {
            "text/plain": [
              "LogisticRegression()"
            ],
            "text/html": [
              "<style>#sk-container-id-11 {color: black;background-color: white;}#sk-container-id-11 pre{padding: 0;}#sk-container-id-11 div.sk-toggleable {background-color: white;}#sk-container-id-11 label.sk-toggleable__label {cursor: pointer;display: block;width: 100%;margin-bottom: 0;padding: 0.3em;box-sizing: border-box;text-align: center;}#sk-container-id-11 label.sk-toggleable__label-arrow:before {content: \"▸\";float: left;margin-right: 0.25em;color: #696969;}#sk-container-id-11 label.sk-toggleable__label-arrow:hover:before {color: black;}#sk-container-id-11 div.sk-estimator:hover label.sk-toggleable__label-arrow:before {color: black;}#sk-container-id-11 div.sk-toggleable__content {max-height: 0;max-width: 0;overflow: hidden;text-align: left;background-color: #f0f8ff;}#sk-container-id-11 div.sk-toggleable__content pre {margin: 0.2em;color: black;border-radius: 0.25em;background-color: #f0f8ff;}#sk-container-id-11 input.sk-toggleable__control:checked~div.sk-toggleable__content {max-height: 200px;max-width: 100%;overflow: auto;}#sk-container-id-11 input.sk-toggleable__control:checked~label.sk-toggleable__label-arrow:before {content: \"▾\";}#sk-container-id-11 div.sk-estimator input.sk-toggleable__control:checked~label.sk-toggleable__label {background-color: #d4ebff;}#sk-container-id-11 div.sk-label input.sk-toggleable__control:checked~label.sk-toggleable__label {background-color: #d4ebff;}#sk-container-id-11 input.sk-hidden--visually {border: 0;clip: rect(1px 1px 1px 1px);clip: rect(1px, 1px, 1px, 1px);height: 1px;margin: -1px;overflow: hidden;padding: 0;position: absolute;width: 1px;}#sk-container-id-11 div.sk-estimator {font-family: monospace;background-color: #f0f8ff;border: 1px dotted black;border-radius: 0.25em;box-sizing: border-box;margin-bottom: 0.5em;}#sk-container-id-11 div.sk-estimator:hover {background-color: #d4ebff;}#sk-container-id-11 div.sk-parallel-item::after {content: \"\";width: 100%;border-bottom: 1px solid gray;flex-grow: 1;}#sk-container-id-11 div.sk-label:hover label.sk-toggleable__label {background-color: #d4ebff;}#sk-container-id-11 div.sk-serial::before {content: \"\";position: absolute;border-left: 1px solid gray;box-sizing: border-box;top: 0;bottom: 0;left: 50%;z-index: 0;}#sk-container-id-11 div.sk-serial {display: flex;flex-direction: column;align-items: center;background-color: white;padding-right: 0.2em;padding-left: 0.2em;position: relative;}#sk-container-id-11 div.sk-item {position: relative;z-index: 1;}#sk-container-id-11 div.sk-parallel {display: flex;align-items: stretch;justify-content: center;background-color: white;position: relative;}#sk-container-id-11 div.sk-item::before, #sk-container-id-11 div.sk-parallel-item::before {content: \"\";position: absolute;border-left: 1px solid gray;box-sizing: border-box;top: 0;bottom: 0;left: 50%;z-index: -1;}#sk-container-id-11 div.sk-parallel-item {display: flex;flex-direction: column;z-index: 1;position: relative;background-color: white;}#sk-container-id-11 div.sk-parallel-item:first-child::after {align-self: flex-end;width: 50%;}#sk-container-id-11 div.sk-parallel-item:last-child::after {align-self: flex-start;width: 50%;}#sk-container-id-11 div.sk-parallel-item:only-child::after {width: 0;}#sk-container-id-11 div.sk-dashed-wrapped {border: 1px dashed gray;margin: 0 0.4em 0.5em 0.4em;box-sizing: border-box;padding-bottom: 0.4em;background-color: white;}#sk-container-id-11 div.sk-label label {font-family: monospace;font-weight: bold;display: inline-block;line-height: 1.2em;}#sk-container-id-11 div.sk-label-container {text-align: center;}#sk-container-id-11 div.sk-container {/* jupyter's `normalize.less` sets `[hidden] { display: none; }` but bootstrap.min.css set `[hidden] { display: none !important; }` so we also need the `!important` here to be able to override the default hidden behavior on the sphinx rendered scikit-learn.org. See: https://github.com/scikit-learn/scikit-learn/issues/21755 */display: inline-block !important;position: relative;}#sk-container-id-11 div.sk-text-repr-fallback {display: none;}</style><div id=\"sk-container-id-11\" class=\"sk-top-container\"><div class=\"sk-text-repr-fallback\"><pre>LogisticRegression()</pre><b>In a Jupyter environment, please rerun this cell to show the HTML representation or trust the notebook. <br />On GitHub, the HTML representation is unable to render, please try loading this page with nbviewer.org.</b></div><div class=\"sk-container\" hidden><div class=\"sk-item\"><div class=\"sk-estimator sk-toggleable\"><input class=\"sk-toggleable__control sk-hidden--visually\" id=\"sk-estimator-id-11\" type=\"checkbox\" checked><label for=\"sk-estimator-id-11\" class=\"sk-toggleable__label sk-toggleable__label-arrow\">LogisticRegression</label><div class=\"sk-toggleable__content\"><pre>LogisticRegression()</pre></div></div></div></div></div>"
            ]
          },
          "metadata": {},
          "execution_count": 87
        }
      ]
    },
    {
      "cell_type": "code",
      "source": [
        "X_train_prediction = model.predict(X_train)\n",
        "training_data_accuracy = accuracy_score(X_train_prediction, Y_train)"
      ],
      "metadata": {
        "id": "z8vBBvc_2tdl"
      },
      "execution_count": 88,
      "outputs": []
    },
    {
      "cell_type": "code",
      "source": [
        "print('Accuracy on Training data : ', training_data_accuracy)"
      ],
      "metadata": {
        "colab": {
          "base_uri": "https://localhost:8080/"
        },
        "id": "sr6YzUxh2wGj",
        "outputId": "ba1ada71-3797-4f8d-c728-83131ac083a8"
      },
      "execution_count": 89,
      "outputs": [
        {
          "output_type": "stream",
          "name": "stdout",
          "text": [
            "Accuracy on Training data :  0.9764705882352941\n"
          ]
        }
      ]
    },
    {
      "cell_type": "code",
      "source": [
        "# accuracy on test data\n",
        "X_test_prediction = model.predict(X_test)\n",
        "test_data_accuracy = accuracy_score(X_test_prediction, Y_test)"
      ],
      "metadata": {
        "id": "9hmTiotI2zvZ"
      },
      "execution_count": 90,
      "outputs": []
    },
    {
      "cell_type": "code",
      "source": [
        "print('Accuracy score on Test Data : ', test_data_accuracy)"
      ],
      "metadata": {
        "colab": {
          "base_uri": "https://localhost:8080/"
        },
        "id": "s8QlICCx21UJ",
        "outputId": "d3f3dfb3-d50b-4e89-acf6-52355bcf60b4"
      },
      "execution_count": 91,
      "outputs": [
        {
          "output_type": "stream",
          "name": "stdout",
          "text": [
            "Accuracy score on Test Data :  0.9532710280373832\n"
          ]
        }
      ]
    }
  ]
}